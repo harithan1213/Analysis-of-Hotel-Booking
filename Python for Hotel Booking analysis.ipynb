{
 "cells": [
  {
   "cell_type": "markdown",
   "metadata": {},
   "source": [
    "# Climate Data Analysis for VEMAP Project Phase 2\n",
    "\n",
    "# Assessing the Impact of Climate Change on Ecosystem Productivity.\n"
   ]
  },
  {
   "cell_type": "markdown",
   "metadata": {},
   "source": [
    "\n",
    "## Introduction\n",
    "The Vegetation/Ecosystem Modeling and Analysis Project (VEMAP) Phase 2 provides a comprehensive dataset of historical and projected climate data. This analysis aims to interpret these data to understand climate trends and predict future conditions. By leveraging machine learning, we seek insights into patterns and anomalies within the climate parameters over time, aiding in environmental decision-making and contributing to the broader dialogue on climate change and sustainability.\n",
    "\n",
    "## Response Variable: Net Primary Productivity (Nppx)\n",
    "Why Nppx?\n",
    "\n",
    "Relevance to Climate Change: Nppx is directly influenced by climate factors (like temperature, precipitation) and is a key indicator of ecosystem health and productivity. It represents the rate at which plants in an ecosystem produce net useful chemical energy (i.e., after accounting for the energy used in respiration).\n",
    "Indicator of Carbon Sequestration: It provides insights into carbon sequestration capabilities of ecosystems, which is crucial for understanding and mitigating the impacts of increased atmospheric CO2 levels.\n",
    "Ecosystem Health: Changes in Nppx over time can indicate how ecosystems are responding to climate change, including factors like changing temperature regimes, precipitation patterns, and CO2 concentration.\n",
    "\n",
    "## Supporting Variables:\n",
    "Aetx (Actual Evapotranspiration): Offers insights into water balance and can be correlated with Nppx to understand how water availability impacts productivity.\n",
    "Gppx (Gross Primary Productivity): Helps in understanding the gross input of carbon through photosynthesis. Comparing GPP and NPP can provide insights into ecosystem respiration rates.\n",
    "Climatic Factors (e.g., Temperature, Precipitation from other data sources): Including these can help in understanding how climate change is directly impacting Nppx.\n",
    "Vegc (Vegetation Carbon): Helps in understanding the carbon content in vegetation, which can be related to productivity.\n",
    "## Analysis Approach:\n",
    "Time Series Analysis of Nppx: To observe trends over time, potentially relating these to known climate change events or patterns.\n",
    "Correlation Analysis: Understanding how Nppx correlates with other variables like Aetx, Gppx, and Vegc.\n",
    "Regression Modeling: To predict Nppx based on various predictors, including climatic factors and other relevant variables from the dataset.\n",
    "Change Analysis: Comparing Nppx over different time periods or across different elevational or vegetational areas to assess the impact of environmental changes.\n",
    "## Potential Outcomes:\n",
    "Identify Trends: Highlight how ecosystem productivity has changed over the years and project future trends.\n",
    "Policy Implications: Provide data-driven insights for environmental and conservation policies.\n",
    "Ecosystem Management: Aid in managing ecosystems by understanding productivity patterns and their drivers."
   ]
  },
  {
   "cell_type": "markdown",
   "metadata": {},
   "source": [
    "## Dataset Overview"
   ]
  },
  {
   "cell_type": "code",
   "execution_count": 42,
   "metadata": {},
   "outputs": [],
   "source": [
    "# saome libraries\n",
    "import pandas as pd\n",
    "import numpy as np\n",
    "\n",
    "import seaborn as sns\n",
    "import matplotlib.pyplot as plt\n"
   ]
  },
  {
   "cell_type": "code",
   "execution_count": 43,
   "metadata": {},
   "outputs": [],
   "source": [
    "#import data\n",
    "df = pd.read_excel('Cleaned_Dataset.xlsx')"
   ]
  },
  {
   "cell_type": "code",
   "execution_count": 44,
   "metadata": {},
   "outputs": [
    {
     "data": {
      "text/html": [
       "<div>\n",
       "<style scoped>\n",
       "    .dataframe tbody tr th:only-of-type {\n",
       "        vertical-align: middle;\n",
       "    }\n",
       "\n",
       "    .dataframe tbody tr th {\n",
       "        vertical-align: top;\n",
       "    }\n",
       "\n",
       "    .dataframe thead th {\n",
       "        text-align: right;\n",
       "    }\n",
       "</style>\n",
       "<table border=\"1\" class=\"dataframe\">\n",
       "  <thead>\n",
       "    <tr style=\"text-align: right;\">\n",
       "      <th></th>\n",
       "      <th>date</th>\n",
       "      <th>elevation</th>\n",
       "      <th>varea</th>\n",
       "      <th>vveg</th>\n",
       "      <th>mask</th>\n",
       "      <th>aetx</th>\n",
       "      <th>gppx</th>\n",
       "      <th>nppx</th>\n",
       "      <th>roff</th>\n",
       "      <th>totc</th>\n",
       "      <th>tslc</th>\n",
       "      <th>vegc</th>\n",
       "    </tr>\n",
       "  </thead>\n",
       "  <tbody>\n",
       "    <tr>\n",
       "      <th>0</th>\n",
       "      <td>1895</td>\n",
       "      <td>79.0</td>\n",
       "      <td>1584.0</td>\n",
       "      <td>10.0</td>\n",
       "      <td>2117</td>\n",
       "      <td>279.921143</td>\n",
       "      <td>526.669983</td>\n",
       "      <td>256.481995</td>\n",
       "      <td>177.597473</td>\n",
       "      <td>9137.581055</td>\n",
       "      <td>4768.462891</td>\n",
       "      <td>4369.118164</td>\n",
       "    </tr>\n",
       "    <tr>\n",
       "      <th>1</th>\n",
       "      <td>1896</td>\n",
       "      <td>79.0</td>\n",
       "      <td>1584.0</td>\n",
       "      <td>10.0</td>\n",
       "      <td>2117</td>\n",
       "      <td>325.900421</td>\n",
       "      <td>602.059998</td>\n",
       "      <td>314.925995</td>\n",
       "      <td>213.465027</td>\n",
       "      <td>9107.330078</td>\n",
       "      <td>4736.508789</td>\n",
       "      <td>4370.820801</td>\n",
       "    </tr>\n",
       "    <tr>\n",
       "      <th>2</th>\n",
       "      <td>1897</td>\n",
       "      <td>79.0</td>\n",
       "      <td>1584.0</td>\n",
       "      <td>10.0</td>\n",
       "      <td>2117</td>\n",
       "      <td>266.613495</td>\n",
       "      <td>508.476959</td>\n",
       "      <td>245.151001</td>\n",
       "      <td>153.621368</td>\n",
       "      <td>9133.831055</td>\n",
       "      <td>4761.395020</td>\n",
       "      <td>4372.436035</td>\n",
       "    </tr>\n",
       "    <tr>\n",
       "      <th>3</th>\n",
       "      <td>1898</td>\n",
       "      <td>79.0</td>\n",
       "      <td>1584.0</td>\n",
       "      <td>10.0</td>\n",
       "      <td>2117</td>\n",
       "      <td>268.471344</td>\n",
       "      <td>500.610992</td>\n",
       "      <td>237.226990</td>\n",
       "      <td>26.726561</td>\n",
       "      <td>9111.805664</td>\n",
       "      <td>4775.790039</td>\n",
       "      <td>4336.015137</td>\n",
       "    </tr>\n",
       "    <tr>\n",
       "      <th>4</th>\n",
       "      <td>1899</td>\n",
       "      <td>79.0</td>\n",
       "      <td>1584.0</td>\n",
       "      <td>10.0</td>\n",
       "      <td>2117</td>\n",
       "      <td>322.554382</td>\n",
       "      <td>597.226990</td>\n",
       "      <td>316.483002</td>\n",
       "      <td>206.786026</td>\n",
       "      <td>9088.238281</td>\n",
       "      <td>4749.683105</td>\n",
       "      <td>4338.555664</td>\n",
       "    </tr>\n",
       "  </tbody>\n",
       "</table>\n",
       "</div>"
      ],
      "text/plain": [
       "   date  elevation   varea  vveg  mask        aetx        gppx        nppx  \\\n",
       "0  1895       79.0  1584.0  10.0  2117  279.921143  526.669983  256.481995   \n",
       "1  1896       79.0  1584.0  10.0  2117  325.900421  602.059998  314.925995   \n",
       "2  1897       79.0  1584.0  10.0  2117  266.613495  508.476959  245.151001   \n",
       "3  1898       79.0  1584.0  10.0  2117  268.471344  500.610992  237.226990   \n",
       "4  1899       79.0  1584.0  10.0  2117  322.554382  597.226990  316.483002   \n",
       "\n",
       "         roff         totc         tslc         vegc  \n",
       "0  177.597473  9137.581055  4768.462891  4369.118164  \n",
       "1  213.465027  9107.330078  4736.508789  4370.820801  \n",
       "2  153.621368  9133.831055  4761.395020  4372.436035  \n",
       "3   26.726561  9111.805664  4775.790039  4336.015137  \n",
       "4  206.786026  9088.238281  4749.683105  4338.555664  "
      ]
     },
     "execution_count": 44,
     "metadata": {},
     "output_type": "execute_result"
    }
   ],
   "source": [
    "# check first few rows\n",
    "df.head()"
   ]
  },
  {
   "cell_type": "code",
   "execution_count": 45,
   "metadata": {},
   "outputs": [
    {
     "data": {
      "text/plain": [
       "(437132, 12)"
      ]
     },
     "execution_count": 45,
     "metadata": {},
     "output_type": "execute_result"
    }
   ],
   "source": [
    "# dimension of data\n",
    "df.shape"
   ]
  },
  {
   "cell_type": "code",
   "execution_count": 46,
   "metadata": {},
   "outputs": [
    {
     "name": "stdout",
     "output_type": "stream",
     "text": [
      "date           int64\n",
      "elevation    float64\n",
      "varea        float64\n",
      "vveg         float64\n",
      "mask           int64\n",
      "aetx         float64\n",
      "gppx         float64\n",
      "nppx         float64\n",
      "roff         float64\n",
      "totc         float64\n",
      "tslc         float64\n",
      "vegc         float64\n",
      "dtype: object\n"
     ]
    }
   ],
   "source": [
    "# data types\n",
    "print(df.dtypes)"
   ]
  },
  {
   "cell_type": "code",
   "execution_count": 47,
   "metadata": {},
   "outputs": [
    {
     "name": "stdout",
     "output_type": "stream",
     "text": [
      "date              0\n",
      "elevation    203734\n",
      "varea        203734\n",
      "vveg         203528\n",
      "mask              0\n",
      "aetx         220420\n",
      "gppx         220420\n",
      "nppx         220420\n",
      "roff         220420\n",
      "totc         220420\n",
      "tslc         220420\n",
      "vegc         220420\n",
      "dtype: int64\n"
     ]
    }
   ],
   "source": [
    "# Check for missing values in the dataset\n",
    "print(df.isnull().sum())"
   ]
  },
  {
   "cell_type": "code",
   "execution_count": 48,
   "metadata": {},
   "outputs": [
    {
     "name": "stdout",
     "output_type": "stream",
     "text": [
      "\n",
      "Summary statistics for the dataset:\n"
     ]
    },
    {
     "data": {
      "text/html": [
       "<div>\n",
       "<style scoped>\n",
       "    .dataframe tbody tr th:only-of-type {\n",
       "        vertical-align: middle;\n",
       "    }\n",
       "\n",
       "    .dataframe tbody tr th {\n",
       "        vertical-align: top;\n",
       "    }\n",
       "\n",
       "    .dataframe thead th {\n",
       "        text-align: right;\n",
       "    }\n",
       "</style>\n",
       "<table border=\"1\" class=\"dataframe\">\n",
       "  <thead>\n",
       "    <tr style=\"text-align: right;\">\n",
       "      <th></th>\n",
       "      <th>count</th>\n",
       "      <th>mean</th>\n",
       "      <th>std</th>\n",
       "      <th>min</th>\n",
       "      <th>25%</th>\n",
       "      <th>50%</th>\n",
       "      <th>75%</th>\n",
       "      <th>max</th>\n",
       "    </tr>\n",
       "  </thead>\n",
       "  <tbody>\n",
       "    <tr>\n",
       "      <th>date</th>\n",
       "      <td>437132.0</td>\n",
       "      <td>1997.500000</td>\n",
       "      <td>59.466445</td>\n",
       "      <td>1895.000000</td>\n",
       "      <td>1946.000000</td>\n",
       "      <td>1997.500000</td>\n",
       "      <td>2049.000000</td>\n",
       "      <td>2100.000000</td>\n",
       "    </tr>\n",
       "    <tr>\n",
       "      <th>elevation</th>\n",
       "      <td>233398.0</td>\n",
       "      <td>586.743160</td>\n",
       "      <td>646.185069</td>\n",
       "      <td>-28.000000</td>\n",
       "      <td>92.000000</td>\n",
       "      <td>290.000000</td>\n",
       "      <td>944.000000</td>\n",
       "      <td>2885.000000</td>\n",
       "    </tr>\n",
       "    <tr>\n",
       "      <th>varea</th>\n",
       "      <td>233398.0</td>\n",
       "      <td>2532.157988</td>\n",
       "      <td>182.377062</td>\n",
       "      <td>1257.000000</td>\n",
       "      <td>2507.000000</td>\n",
       "      <td>2553.000000</td>\n",
       "      <td>2612.000000</td>\n",
       "      <td>2782.000000</td>\n",
       "    </tr>\n",
       "    <tr>\n",
       "      <th>vveg</th>\n",
       "      <td>233604.0</td>\n",
       "      <td>17.912698</td>\n",
       "      <td>21.466404</td>\n",
       "      <td>1.000000</td>\n",
       "      <td>6.000000</td>\n",
       "      <td>13.000000</td>\n",
       "      <td>18.000000</td>\n",
       "      <td>92.000000</td>\n",
       "    </tr>\n",
       "    <tr>\n",
       "      <th>mask</th>\n",
       "      <td>437132.0</td>\n",
       "      <td>1310.042413</td>\n",
       "      <td>1338.395129</td>\n",
       "      <td>0.000000</td>\n",
       "      <td>0.000000</td>\n",
       "      <td>0.000000</td>\n",
       "      <td>2638.000000</td>\n",
       "      <td>3168.000000</td>\n",
       "    </tr>\n",
       "    <tr>\n",
       "      <th>aetx</th>\n",
       "      <td>216712.0</td>\n",
       "      <td>571.582559</td>\n",
       "      <td>281.835216</td>\n",
       "      <td>0.000000</td>\n",
       "      <td>314.521255</td>\n",
       "      <td>576.284698</td>\n",
       "      <td>799.447708</td>\n",
       "      <td>1729.419189</td>\n",
       "    </tr>\n",
       "    <tr>\n",
       "      <th>gppx</th>\n",
       "      <td>216712.0</td>\n",
       "      <td>1330.521524</td>\n",
       "      <td>809.886678</td>\n",
       "      <td>0.000000</td>\n",
       "      <td>619.897018</td>\n",
       "      <td>1258.292542</td>\n",
       "      <td>1912.439728</td>\n",
       "      <td>5850.952148</td>\n",
       "    </tr>\n",
       "    <tr>\n",
       "      <th>nppx</th>\n",
       "      <td>216712.0</td>\n",
       "      <td>652.456035</td>\n",
       "      <td>510.355038</td>\n",
       "      <td>-167.949997</td>\n",
       "      <td>243.367001</td>\n",
       "      <td>582.015472</td>\n",
       "      <td>897.975952</td>\n",
       "      <td>4286.376953</td>\n",
       "    </tr>\n",
       "    <tr>\n",
       "      <th>roff</th>\n",
       "      <td>216712.0</td>\n",
       "      <td>263.216905</td>\n",
       "      <td>260.075962</td>\n",
       "      <td>0.000000</td>\n",
       "      <td>66.204247</td>\n",
       "      <td>203.181526</td>\n",
       "      <td>389.344269</td>\n",
       "      <td>4994.694336</td>\n",
       "    </tr>\n",
       "    <tr>\n",
       "      <th>totc</th>\n",
       "      <td>216712.0</td>\n",
       "      <td>11273.130979</td>\n",
       "      <td>9200.539282</td>\n",
       "      <td>100.000000</td>\n",
       "      <td>2744.723389</td>\n",
       "      <td>8765.312500</td>\n",
       "      <td>18447.235840</td>\n",
       "      <td>48818.648438</td>\n",
       "    </tr>\n",
       "    <tr>\n",
       "      <th>tslc</th>\n",
       "      <td>216712.0</td>\n",
       "      <td>4651.070127</td>\n",
       "      <td>3563.907697</td>\n",
       "      <td>100.000000</td>\n",
       "      <td>1719.639740</td>\n",
       "      <td>3458.255981</td>\n",
       "      <td>7083.730591</td>\n",
       "      <td>21859.685547</td>\n",
       "    </tr>\n",
       "    <tr>\n",
       "      <th>vegc</th>\n",
       "      <td>216712.0</td>\n",
       "      <td>6622.060852</td>\n",
       "      <td>6265.806163</td>\n",
       "      <td>0.000000</td>\n",
       "      <td>677.066788</td>\n",
       "      <td>4750.655762</td>\n",
       "      <td>11552.383057</td>\n",
       "      <td>32645.679688</td>\n",
       "    </tr>\n",
       "  </tbody>\n",
       "</table>\n",
       "</div>"
      ],
      "text/plain": [
       "              count          mean          std          min          25%  \\\n",
       "date       437132.0   1997.500000    59.466445  1895.000000  1946.000000   \n",
       "elevation  233398.0    586.743160   646.185069   -28.000000    92.000000   \n",
       "varea      233398.0   2532.157988   182.377062  1257.000000  2507.000000   \n",
       "vveg       233604.0     17.912698    21.466404     1.000000     6.000000   \n",
       "mask       437132.0   1310.042413  1338.395129     0.000000     0.000000   \n",
       "aetx       216712.0    571.582559   281.835216     0.000000   314.521255   \n",
       "gppx       216712.0   1330.521524   809.886678     0.000000   619.897018   \n",
       "nppx       216712.0    652.456035   510.355038  -167.949997   243.367001   \n",
       "roff       216712.0    263.216905   260.075962     0.000000    66.204247   \n",
       "totc       216712.0  11273.130979  9200.539282   100.000000  2744.723389   \n",
       "tslc       216712.0   4651.070127  3563.907697   100.000000  1719.639740   \n",
       "vegc       216712.0   6622.060852  6265.806163     0.000000   677.066788   \n",
       "\n",
       "                   50%           75%           max  \n",
       "date       1997.500000   2049.000000   2100.000000  \n",
       "elevation   290.000000    944.000000   2885.000000  \n",
       "varea      2553.000000   2612.000000   2782.000000  \n",
       "vveg         13.000000     18.000000     92.000000  \n",
       "mask          0.000000   2638.000000   3168.000000  \n",
       "aetx        576.284698    799.447708   1729.419189  \n",
       "gppx       1258.292542   1912.439728   5850.952148  \n",
       "nppx        582.015472    897.975952   4286.376953  \n",
       "roff        203.181526    389.344269   4994.694336  \n",
       "totc       8765.312500  18447.235840  48818.648438  \n",
       "tslc       3458.255981   7083.730591  21859.685547  \n",
       "vegc       4750.655762  11552.383057  32645.679688  "
      ]
     },
     "metadata": {},
     "output_type": "display_data"
    }
   ],
   "source": [
    "# Generate summary statistics for the numerical columns\n",
    "print(\"\\nSummary statistics for the dataset:\")\n",
    "display(df.describe().transpose())"
   ]
  },
  {
   "cell_type": "markdown",
   "metadata": {},
   "source": [
    "There are a lot of missing data in variables apart from `date` and `mask`."
   ]
  },
  {
   "cell_type": "markdown",
   "metadata": {},
   "source": [
    "## Data Cleaning and Preprocessing\n",
    "### Handling Missing Values\n",
    "\n",
    "**Strategy for handling missing values:**\n",
    "For columns with a significant number of missing values, we need to decide whether to fill these gaps or drop them.\n",
    "The strategy depends on the percentage of missing data and the importance of the variable.\n",
    "\n",
    "For columns with a low percentage of missing values, we might opt to fill in these gaps using a method like\n",
    "mean or median imputation or a more sophisticated approach like K-Nearest Neighbors (KNN).\n",
    "\n",
    "Handling missing values in 'elevation', 'varea', and 'vveg' columns\n",
    "Since 'elevation', 'varea', and 'vveg' have a similar pattern of missingness, we can investigate if they are missing together.\n",
    "If they are missing in the same rows, we may consider removing those rows altogether if the missing data is not substantial.\n",
    "\n",
    "For columns with a high percentage of missing values, we may need to consider dropping the feature if it's not critical.\n",
    "Otherwise, we might need to apply imputation techniques or even model the missing data if it's vital for the analysis.\n",
    "Impute missing values for 'aetx', 'gppx', 'nppx', 'roff', 'totc', 'tslc', and 'vegc' using the median\n",
    "This is a simplistic approach and you may consider more sophisticated methods like interpolation, especially since the data is time-series."
   ]
  },
  {
   "cell_type": "code",
   "execution_count": 49,
   "metadata": {},
   "outputs": [
    {
     "name": "stdout",
     "output_type": "stream",
     "text": [
      "\n",
      "Percentage of missing values for each column:\n",
      "date          0.000000\n",
      "elevation    46.606975\n",
      "varea        46.606975\n",
      "vveg         46.559849\n",
      "mask          0.000000\n",
      "aetx         50.424128\n",
      "gppx         50.424128\n",
      "nppx         50.424128\n",
      "roff         50.424128\n",
      "totc         50.424128\n",
      "tslc         50.424128\n",
      "vegc         50.424128\n",
      "dtype: float64\n"
     ]
    }
   ],
   "source": [
    "# Calculate the percentage of missing values for each column\n",
    "missing_values = df.isnull().sum()\n",
    "#print(missing_values)\n",
    "missing_percentage = (missing_values / len(df)) * 100\n",
    "print(\"\\nPercentage of missing values for each column:\")\n",
    "print(missing_percentage)"
   ]
  },
  {
   "cell_type": "code",
   "execution_count": 50,
   "metadata": {},
   "outputs": [
    {
     "name": "stdout",
     "output_type": "stream",
     "text": [
      "\n",
      "Number of rows where 'elevation', 'varea', and 'vveg' are all missing: 203528\n"
     ]
    }
   ],
   "source": [
    "# Check if the same rows are missing for 'elevation', 'varea', and 'vveg'\n",
    "missing_rows = df[df['elevation'].isnull() & df['varea'].isnull() & df['vveg'].isnull()]\n",
    "print(f\"\\nNumber of rows where 'elevation', 'varea', and 'vveg' are all missing: {len(missing_rows)}\")"
   ]
  },
  {
   "cell_type": "code",
   "execution_count": 51,
   "metadata": {},
   "outputs": [],
   "source": [
    "for column in ['aetx', 'gppx', 'nppx', 'roff', 'totc', 'tslc', 'vegc']:\n",
    "    df[column].fillna(df[column].median(), inplace=True)"
   ]
  },
  {
   "cell_type": "code",
   "execution_count": 52,
   "metadata": {},
   "outputs": [],
   "source": [
    "df.dropna(subset=['elevation', 'varea', 'vveg'], inplace=True)"
   ]
  },
  {
   "cell_type": "code",
   "execution_count": 53,
   "metadata": {},
   "outputs": [
    {
     "name": "stdout",
     "output_type": "stream",
     "text": [
      "\n",
      "Missing values after handling:\n",
      "date         0\n",
      "elevation    0\n",
      "varea        0\n",
      "vveg         0\n",
      "mask         0\n",
      "aetx         0\n",
      "gppx         0\n",
      "nppx         0\n",
      "roff         0\n",
      "totc         0\n",
      "tslc         0\n",
      "vegc         0\n",
      "dtype: int64\n"
     ]
    }
   ],
   "source": [
    "# confirm that there are no more missing values.\n",
    "print(\"\\nMissing values after handling:\")\n",
    "print(df.isnull().sum())"
   ]
  },
  {
   "cell_type": "markdown",
   "metadata": {},
   "source": [
    "### Data Type Conversion\n",
    "Convert data into appropriate types; dates into datetime objects.\n"
   ]
  },
  {
   "cell_type": "code",
   "execution_count": 54,
   "metadata": {},
   "outputs": [],
   "source": [
    "# Converting 'date' column to datetime format\n",
    "df['date'] = pd.to_datetime(df['date'], format='%Y') \n"
   ]
  },
  {
   "cell_type": "markdown",
   "metadata": {},
   "source": [
    "### Outlier Detection"
   ]
  },
  {
   "cell_type": "code",
   "execution_count": 55,
   "metadata": {},
   "outputs": [
    {
     "name": "stdout",
     "output_type": "stream",
     "text": [
      "Outliers on 'elevation'= 4944 rows\n",
      "Outliers on 'varea'= 11948 rows\n",
      "Outliers on 'vveg'= 16686 rows\n",
      "Outliers on 'mask'= 16686 rows\n",
      "Outliers on 'aetx'= 65 rows\n",
      "Outliers on 'gppx'= 1271 rows\n",
      "Outliers on 'nppx'= 7205 rows\n",
      "Outliers on 'roff'= 6383 rows\n",
      "Outliers on 'totc'= 1099 rows\n",
      "Outliers on 'tslc'= 3485 rows\n",
      "Outliers on 'vegc'= 623 rows\n"
     ]
    }
   ],
   "source": [
    "# Define a function to detect outliers using the IQR\n",
    "def detect_outliers(df, column):\n",
    "    Q1 = df[column].quantile(0.25)\n",
    "    Q3 = df[column].quantile(0.75)\n",
    "    IQR = Q3 - Q1\n",
    "    lower_bound = Q1 - 1.5 * IQR\n",
    "    upper_bound = Q3 + 1.5 * IQR\n",
    "    \n",
    "    # Return a boolean Series where True indicates the presence of an outlier\n",
    "    outliers = ((df[column] < lower_bound) | (df[column] > upper_bound))\n",
    "    return outliers\n",
    "\n",
    "# Apply the outlier detection function to each relevant column\n",
    "outlier_columns = ['elevation', 'varea', 'vveg', 'mask', 'aetx', 'gppx', 'nppx', 'roff', 'totc', 'tslc', 'vegc']\n",
    "outliers_detected = {}\n",
    "\n",
    "for column in outlier_columns:\n",
    "    outliers = detect_outliers(df, column)\n",
    "    outliers_detected[column] = outliers\n",
    "    print(f\"Outliers on '{column}'= {outliers.sum()} rows\")"
   ]
  },
  {
   "cell_type": "code",
   "execution_count": 56,
   "metadata": {},
   "outputs": [
    {
     "name": "stdout",
     "output_type": "stream",
     "text": [
      "Outliers capped in 'elevation'\n",
      "Outliers capped in 'varea'\n",
      "Outliers capped in 'vveg'\n",
      "Outliers capped in 'mask'\n",
      "Outliers removed from 'aetx'\n"
     ]
    },
    {
     "name": "stdout",
     "output_type": "stream",
     "text": [
      "Outliers removed from 'gppx'\n",
      "Outliers capped in 'nppx'\n",
      "Outliers capped in 'roff'\n"
     ]
    },
    {
     "name": "stderr",
     "output_type": "stream",
     "text": [
      "C:\\Users\\fkang\\AppData\\Local\\Temp/ipykernel_10368/344359623.py:21: UserWarning: Boolean Series key will be reindexed to match DataFrame index.\n",
      "  df = df[~outliers_detected[column]]\n"
     ]
    },
    {
     "name": "stdout",
     "output_type": "stream",
     "text": [
      "Outliers removed from 'totc'\n",
      "Outliers capped in 'tslc'\n",
      "Outliers removed from 'vegc'\n"
     ]
    }
   ],
   "source": [
    "outlier_thresholds = {\n",
    "    'elevation': 0.02, \n",
    "    'varea': 0.02,\n",
    "    'vveg': 0.02,\n",
    "    'mask': 0.02,\n",
    "    'aetx': 0.001,\n",
    "    'gppx': 0.01,\n",
    "    'nppx': 0.01,\n",
    "    'roff': 0.01,\n",
    "    'totc': 0.01,\n",
    "    'tslc': 0.01,\n",
    "    'vegc': 0.01\n",
    "}\n",
    "\n",
    "for column, threshold in outlier_thresholds.items():\n",
    "    # Calculate the percentage of outliers\n",
    "    outlier_percentage = outliers_detected[column].sum() / len(df)\n",
    "    \n",
    "    # If the percentage of outliers is less than the threshold, remove them\n",
    "    if outlier_percentage < threshold:\n",
    "        df = df[~outliers_detected[column]]\n",
    "        print(f\"Outliers removed from '{column}'\")\n",
    "    else:\n",
    "        # cap outliers\n",
    "        Q1 = df[column].quantile(0.25)\n",
    "        Q3 = df[column].quantile(0.75)\n",
    "        IQR = Q3 - Q1\n",
    "        lower_bound = Q1 - 1.5 * IQR\n",
    "        upper_bound = Q3 + 1.5 * IQR\n",
    "        df[column] = df[column].clip(lower=lower_bound, upper=upper_bound)\n",
    "        print(f\"Outliers capped in '{column}'\")\n"
   ]
  },
  {
   "cell_type": "code",
   "execution_count": 57,
   "metadata": {},
   "outputs": [
    {
     "data": {
      "image/png": "[encoded data removed]",
      "text/plain": [
       "<Figure size 1296x1728 with 11 Axes>"
      ]
     },
     "metadata": {
      "needs_background": "light"
     },
     "output_type": "display_data"
    }
   ],
   "source": [
    "# Visualize the results post-outlier handling using a matrix of box plots\n",
    "num_columns = len(outlier_columns)\n",
    "num_rows = num_columns // 3 + (num_columns % 3 > 0)  # Arrange plots in a grid with 3 columns\n",
    "\n",
    "# Set up the matplotlib figure\n",
    "plt.figure(figsize=(18, num_rows * 6))  # Adjust figure size as needed\n",
    "\n",
    "for i, column in enumerate(outlier_columns, 1):\n",
    "    plt.subplot(num_rows, 3, i)  # Creates subplot in a grid\n",
    "    sns.boxplot(y=df[column])\n",
    "    plt.title(f\"Boxplot of {column} after Outlier Handling\")\n",
    "\n",
    "plt.tight_layout()\n",
    "plt.show()\n"
   ]
  },
  {
   "cell_type": "markdown",
   "metadata": {},
   "source": [
    "## Exploratory Data Analysis (EDA)\n"
   ]
  },
  {
   "cell_type": "markdown",
   "metadata": {},
   "source": [
    "### Correlation Analysis\n"
   ]
  },
  {
   "cell_type": "code",
   "execution_count": 58,
   "metadata": {},
   "outputs": [
    {
     "name": "stdout",
     "output_type": "stream",
     "text": [
      "Correlation Matrix:\n"
     ]
    },
    {
     "data": {
      "text/html": [
       "<div>\n",
       "<style scoped>\n",
       "    .dataframe tbody tr th:only-of-type {\n",
       "        vertical-align: middle;\n",
       "    }\n",
       "\n",
       "    .dataframe tbody tr th {\n",
       "        vertical-align: top;\n",
       "    }\n",
       "\n",
       "    .dataframe thead th {\n",
       "        text-align: right;\n",
       "    }\n",
       "</style>\n",
       "<table border=\"1\" class=\"dataframe\">\n",
       "  <thead>\n",
       "    <tr style=\"text-align: right;\">\n",
       "      <th></th>\n",
       "      <th>elevation</th>\n",
       "      <th>varea</th>\n",
       "      <th>vveg</th>\n",
       "      <th>mask</th>\n",
       "      <th>aetx</th>\n",
       "      <th>gppx</th>\n",
       "      <th>nppx</th>\n",
       "      <th>roff</th>\n",
       "      <th>totc</th>\n",
       "      <th>tslc</th>\n",
       "      <th>vegc</th>\n",
       "    </tr>\n",
       "  </thead>\n",
       "  <tbody>\n",
       "    <tr>\n",
       "      <th>elevation</th>\n",
       "      <td>1.000000</td>\n",
       "      <td>-0.153593</td>\n",
       "      <td>0.076105</td>\n",
       "      <td>-0.069712</td>\n",
       "      <td>-0.699711</td>\n",
       "      <td>-0.590148</td>\n",
       "      <td>-0.336271</td>\n",
       "      <td>-0.280224</td>\n",
       "      <td>-0.536210</td>\n",
       "      <td>-0.415906</td>\n",
       "      <td>-0.548032</td>\n",
       "    </tr>\n",
       "    <tr>\n",
       "      <th>varea</th>\n",
       "      <td>-0.153593</td>\n",
       "      <td>1.000000</td>\n",
       "      <td>-0.062326</td>\n",
       "      <td>0.438774</td>\n",
       "      <td>0.137259</td>\n",
       "      <td>0.039916</td>\n",
       "      <td>-0.037898</td>\n",
       "      <td>0.009414</td>\n",
       "      <td>0.014357</td>\n",
       "      <td>-0.106515</td>\n",
       "      <td>0.083728</td>\n",
       "    </tr>\n",
       "    <tr>\n",
       "      <th>vveg</th>\n",
       "      <td>0.076105</td>\n",
       "      <td>-0.062326</td>\n",
       "      <td>1.000000</td>\n",
       "      <td>-0.567299</td>\n",
       "      <td>-0.396485</td>\n",
       "      <td>-0.347215</td>\n",
       "      <td>-0.152072</td>\n",
       "      <td>-0.443203</td>\n",
       "      <td>-0.555588</td>\n",
       "      <td>-0.506829</td>\n",
       "      <td>-0.546278</td>\n",
       "    </tr>\n",
       "    <tr>\n",
       "      <th>mask</th>\n",
       "      <td>-0.069712</td>\n",
       "      <td>0.438774</td>\n",
       "      <td>-0.567299</td>\n",
       "      <td>1.000000</td>\n",
       "      <td>0.163664</td>\n",
       "      <td>0.072399</td>\n",
       "      <td>-0.024902</td>\n",
       "      <td>0.067097</td>\n",
       "      <td>0.065996</td>\n",
       "      <td>-0.064433</td>\n",
       "      <td>0.152448</td>\n",
       "    </tr>\n",
       "    <tr>\n",
       "      <th>aetx</th>\n",
       "      <td>-0.699711</td>\n",
       "      <td>0.137259</td>\n",
       "      <td>-0.396485</td>\n",
       "      <td>0.163664</td>\n",
       "      <td>1.000000</td>\n",
       "      <td>0.897926</td>\n",
       "      <td>0.691747</td>\n",
       "      <td>0.396304</td>\n",
       "      <td>0.759994</td>\n",
       "      <td>0.713977</td>\n",
       "      <td>0.712329</td>\n",
       "    </tr>\n",
       "    <tr>\n",
       "      <th>gppx</th>\n",
       "      <td>-0.590148</td>\n",
       "      <td>0.039916</td>\n",
       "      <td>-0.347215</td>\n",
       "      <td>0.072399</td>\n",
       "      <td>0.897926</td>\n",
       "      <td>1.000000</td>\n",
       "      <td>0.824826</td>\n",
       "      <td>0.317473</td>\n",
       "      <td>0.750606</td>\n",
       "      <td>0.729969</td>\n",
       "      <td>0.688595</td>\n",
       "    </tr>\n",
       "    <tr>\n",
       "      <th>nppx</th>\n",
       "      <td>-0.336271</td>\n",
       "      <td>-0.037898</td>\n",
       "      <td>-0.152072</td>\n",
       "      <td>-0.024902</td>\n",
       "      <td>0.691747</td>\n",
       "      <td>0.824826</td>\n",
       "      <td>1.000000</td>\n",
       "      <td>0.158188</td>\n",
       "      <td>0.353060</td>\n",
       "      <td>0.443895</td>\n",
       "      <td>0.266144</td>\n",
       "    </tr>\n",
       "    <tr>\n",
       "      <th>roff</th>\n",
       "      <td>-0.280224</td>\n",
       "      <td>0.009414</td>\n",
       "      <td>-0.443203</td>\n",
       "      <td>0.067097</td>\n",
       "      <td>0.396304</td>\n",
       "      <td>0.317473</td>\n",
       "      <td>0.158188</td>\n",
       "      <td>1.000000</td>\n",
       "      <td>0.479302</td>\n",
       "      <td>0.390111</td>\n",
       "      <td>0.484416</td>\n",
       "    </tr>\n",
       "    <tr>\n",
       "      <th>totc</th>\n",
       "      <td>-0.536210</td>\n",
       "      <td>0.014357</td>\n",
       "      <td>-0.555588</td>\n",
       "      <td>0.065996</td>\n",
       "      <td>0.759994</td>\n",
       "      <td>0.750606</td>\n",
       "      <td>0.353060</td>\n",
       "      <td>0.479302</td>\n",
       "      <td>1.000000</td>\n",
       "      <td>0.889152</td>\n",
       "      <td>0.963725</td>\n",
       "    </tr>\n",
       "    <tr>\n",
       "      <th>tslc</th>\n",
       "      <td>-0.415906</td>\n",
       "      <td>-0.106515</td>\n",
       "      <td>-0.506829</td>\n",
       "      <td>-0.064433</td>\n",
       "      <td>0.713977</td>\n",
       "      <td>0.729969</td>\n",
       "      <td>0.443895</td>\n",
       "      <td>0.390111</td>\n",
       "      <td>0.889152</td>\n",
       "      <td>1.000000</td>\n",
       "      <td>0.736972</td>\n",
       "    </tr>\n",
       "    <tr>\n",
       "      <th>vegc</th>\n",
       "      <td>-0.548032</td>\n",
       "      <td>0.083728</td>\n",
       "      <td>-0.546278</td>\n",
       "      <td>0.152448</td>\n",
       "      <td>0.712329</td>\n",
       "      <td>0.688595</td>\n",
       "      <td>0.266144</td>\n",
       "      <td>0.484416</td>\n",
       "      <td>0.963725</td>\n",
       "      <td>0.736972</td>\n",
       "      <td>1.000000</td>\n",
       "    </tr>\n",
       "  </tbody>\n",
       "</table>\n",
       "</div>"
      ],
      "text/plain": [
       "           elevation     varea      vveg      mask      aetx      gppx  \\\n",
       "elevation   1.000000 -0.153593  0.076105 -0.069712 -0.699711 -0.590148   \n",
       "varea      -0.153593  1.000000 -0.062326  0.438774  0.137259  0.039916   \n",
       "vveg        0.076105 -0.062326  1.000000 -0.567299 -0.396485 -0.347215   \n",
       "mask       -0.069712  0.438774 -0.567299  1.000000  0.163664  0.072399   \n",
       "aetx       -0.699711  0.137259 -0.396485  0.163664  1.000000  0.897926   \n",
       "gppx       -0.590148  0.039916 -0.347215  0.072399  0.897926  1.000000   \n",
       "nppx       -0.336271 -0.037898 -0.152072 -0.024902  0.691747  0.824826   \n",
       "roff       -0.280224  0.009414 -0.443203  0.067097  0.396304  0.317473   \n",
       "totc       -0.536210  0.014357 -0.555588  0.065996  0.759994  0.750606   \n",
       "tslc       -0.415906 -0.106515 -0.506829 -0.064433  0.713977  0.729969   \n",
       "vegc       -0.548032  0.083728 -0.546278  0.152448  0.712329  0.688595   \n",
       "\n",
       "               nppx      roff      totc      tslc      vegc  \n",
       "elevation -0.336271 -0.280224 -0.536210 -0.415906 -0.548032  \n",
       "varea     -0.037898  0.009414  0.014357 -0.106515  0.083728  \n",
       "vveg      -0.152072 -0.443203 -0.555588 -0.506829 -0.546278  \n",
       "mask      -0.024902  0.067097  0.065996 -0.064433  0.152448  \n",
       "aetx       0.691747  0.396304  0.759994  0.713977  0.712329  \n",
       "gppx       0.824826  0.317473  0.750606  0.729969  0.688595  \n",
       "nppx       1.000000  0.158188  0.353060  0.443895  0.266144  \n",
       "roff       0.158188  1.000000  0.479302  0.390111  0.484416  \n",
       "totc       0.353060  0.479302  1.000000  0.889152  0.963725  \n",
       "tslc       0.443895  0.390111  0.889152  1.000000  0.736972  \n",
       "vegc       0.266144  0.484416  0.963725  0.736972  1.000000  "
      ]
     },
     "metadata": {},
     "output_type": "display_data"
    }
   ],
   "source": [
    "# Calculating the correlation matrix\n",
    "correlation_matrix = df.corr()\n",
    "\n",
    "# Displaying the correlation matrix\n",
    "print(\"Correlation Matrix:\")\n",
    "display(correlation_matrix)\n"
   ]
  },
  {
   "cell_type": "code",
   "execution_count": 59,
   "metadata": {},
   "outputs": [
    {
     "data": {
      "image/png": "[encoded data removed]",
      "text/plain": [
       "<Figure size 864x576 with 2 Axes>"
      ]
     },
     "metadata": {
      "needs_background": "light"
     },
     "output_type": "display_data"
    }
   ],
   "source": [
    "# Importing necessary library for heatmap\n",
    "import seaborn as sns\n",
    "\n",
    "# Creating a heatmap of the correlation matrix\n",
    "plt.figure(figsize=(12, 8))\n",
    "sns.heatmap(correlation_matrix, annot=True, fmt='.2f', cmap='coolwarm')\n",
    "plt.title('Heatmap of Variable Correlations')\n",
    "plt.show()\n"
   ]
  },
  {
   "cell_type": "code",
   "execution_count": 60,
   "metadata": {},
   "outputs": [
    {
     "name": "stdout",
     "output_type": "stream",
     "text": [
      "Highly Correlated Pairs:\n",
      "vegc  totc    0.963725\n",
      "totc  vegc    0.963725\n",
      "aetx  gppx    0.897926\n",
      "gppx  aetx    0.897926\n",
      "tslc  totc    0.889152\n",
      "totc  tslc    0.889152\n",
      "gppx  nppx    0.824826\n",
      "nppx  gppx    0.824826\n",
      "aetx  totc    0.759994\n",
      "totc  aetx    0.759994\n",
      "gppx  totc    0.750606\n",
      "totc  gppx    0.750606\n",
      "tslc  vegc    0.736972\n",
      "vegc  tslc    0.736972\n",
      "tslc  gppx    0.729969\n",
      "gppx  tslc    0.729969\n",
      "tslc  aetx    0.713977\n",
      "aetx  tslc    0.713977\n",
      "vegc  aetx    0.712329\n",
      "aetx  vegc    0.712329\n",
      "dtype: float64\n"
     ]
    }
   ],
   "source": [
    "# Identifying highly correlated pairs\n",
    "threshold = 0.7\n",
    "highly_correlated_pairs = correlation_matrix.unstack().sort_values(kind=\"quicksort\", ascending=False)\n",
    "highly_correlated_pairs = highly_correlated_pairs[highly_correlated_pairs.abs() > threshold]\n",
    "highly_correlated_pairs = highly_correlated_pairs[highly_correlated_pairs.index.get_level_values(0) != highly_correlated_pairs.index.get_level_values(1)]\n",
    "print(\"Highly Correlated Pairs:\")\n",
    "print(highly_correlated_pairs)\n"
   ]
  },
  {
   "cell_type": "markdown",
   "metadata": {},
   "source": [
    "\n",
    "### Feature Transformation\n",
    "Scaling and Normalizaiton"
   ]
  },
  {
   "cell_type": "code",
   "execution_count": 61,
   "metadata": {},
   "outputs": [],
   "source": [
    "# Importing necessary libraries for feature transformation\n",
    "from sklearn.preprocessing import StandardScaler, MinMaxScaler\n",
    "\n",
    "# Standardizing the features\n",
    "scaler = StandardScaler()\n",
    "scaled_features = scaler.fit_transform(df[['aetx', 'gppx', 'nppx']])  # Replace with relevant features\n",
    "df_scaled = pd.DataFrame(scaled_features, columns=['aetx_scaled', 'gppx_scaled', 'nppx_scaled'])\n",
    "\n",
    "# Appending the scaled features to the original DataFrame\n",
    "df = pd.concat([df, df_scaled], axis=1)\n",
    "\n",
    "# Example: Normalizing a feature\n",
    "normalizer = MinMaxScaler()\n",
    "df['roff_normalized'] = normalizer.fit_transform(df[['roff']])\n"
   ]
  },
  {
   "cell_type": "code",
   "execution_count": 62,
   "metadata": {},
   "outputs": [],
   "source": [
    "# Applying log transformationb\n",
    "df['log_totc'] = np.log1p(df['totc'])  # Using log1p to handle zero values\n"
   ]
  },
  {
   "cell_type": "code",
   "execution_count": null,
   "metadata": {},
   "outputs": [],
   "source": [
    "# Forward fill for time series data\n",
    "df.ffill(inplace=True)\n",
    "df.bfill(inplace=True)\n",
    "# no missing values\n",
    "print(df.isnull().sum())"
   ]
  },
  {
   "cell_type": "markdown",
   "metadata": {},
   "source": [
    "\n",
    "## Machine Learning Models for Prediction\n",
    "### Model Selection\n"
   ]
  },
  {
   "cell_type": "markdown",
   "metadata": {},
   "source": [
    "Linear Regression: A good baseline model for regression problems. Simple yet effective at capturing linear relationships between the response and predictor variables.\n",
    "\n",
    "Decision Tree Regressor: A non-linear model that is good at capturing complex relationships. It can, however, be prone to overfitting, especially with noisy data.\n",
    "\n",
    "Random Forest Regressor: An ensemble method that averages the predictions of multiple decision trees, reducing the risk of overfitting while capturing complex relationships in the data.\n",
    "\n",
    "Support Vector Machines (SVM) for Regression: Effective in high-dimensional spaces and in cases where the number of dimensions is greater than the number of samples. "
   ]
  },
  {
   "cell_type": "code",
   "execution_count": 63,
   "metadata": {},
   "outputs": [],
   "source": [
    "# Import necessary libraries\n",
    "from sklearn.model_selection import train_test_split\n",
    "from sklearn.linear_model import LinearRegression\n",
    "from sklearn.tree import DecisionTreeRegressor\n",
    "from sklearn.ensemble import RandomForestRegressor\n",
    "from sklearn.svm import SVR\n",
    "from sklearn.metrics import mean_squared_error, r2_score"
   ]
  },
  {
   "cell_type": "code",
   "execution_count": null,
   "metadata": {},
   "outputs": [],
   "source": [
    "# set date as index\n",
    "df.set_index('date', inplace=True)"
   ]
  },
  {
   "cell_type": "code",
   "execution_count": 83,
   "metadata": {},
   "outputs": [],
   "source": [
    "\n",
    "# Preparing the data\n",
    "X = df.drop('nppx', axis=1)  \n",
    "y = df['nppx'] \n",
    "\n",
    "# Splitting the data into training and testing sets\n",
    "X_train, X_test, y_train, y_test = train_test_split(X, y, test_size=0.3, random_state=42)\n"
   ]
  },
  {
   "cell_type": "code",
   "execution_count": 84,
   "metadata": {},
   "outputs": [],
   "source": [
    "# Initializing models\n",
    "models = {\n",
    "    \"Linear Regression\": LinearRegression(),\n",
    "    \"Decision Tree\": DecisionTreeRegressor(),\n",
    "    \"Random Forest\": RandomForestRegressor(),\n",
    "    \"SVM\": SVR()\n",
    "}\n",
    "\n",
    "# Function to evaluate models\n",
    "def evaluate_model(model, X_test, y_test):\n",
    "    predictions = model.predict(X_test)\n",
    "    rmse = np.sqrt(mean_squared_error(y_test, predictions))\n",
    "    r2 = r2_score(y_test, predictions)\n",
    "    return rmse, r2"
   ]
  },
  {
   "cell_type": "code",
   "execution_count": 86,
   "metadata": {},
   "outputs": [],
   "source": [
    "# Training and evaluating models\n",
    "results = {}\n",
    "for name, model in models.items():\n",
    "    model.fit(X_train, y_train)  # Use the imputed training data\n",
    "    results[name] = evaluate_model(model, X_test, y_test)  # Use the imputed test data\n",
    "\n",
    "# Displaying results\n",
    "for name, (rmse, r2) in results.items():\n",
    "    print(f\"{name}: RMSE = {rmse:.2f}, R² = {r2:.2f}\")"
   ]
  },
  {
   "cell_type": "code",
   "execution_count": null,
   "metadata": {},
   "outputs": [],
   "source": [
    "# Displaying results\n",
    "for name, (rmse, r2) in results.items():\n",
    "    print(f\"{name}: RMSE = {rmse:.2f}, R² = {r2:.2f}\")"
   ]
  },
  {
   "cell_type": "code",
   "execution_count": null,
   "metadata": {},
   "outputs": [],
   "source": [
    "# Visualizing model performance\n",
    "labels = list(results.keys())\n",
    "rmse_values = [result[0] for result in results.values()]\n",
    "r2_values = [result[1] for result in results.values()]\n",
    "\n",
    "x = np.arange(len(labels))\n",
    "width = 0.35\n",
    "\n",
    "fig, ax = plt.subplots()\n",
    "rects1 = ax.bar(x - width/2, rmse_values, width, label='RMSE')\n",
    "rects2 = ax.bar(x + width/2, r2_values, width, label='R2')\n",
    "\n",
    "ax.set_ylabel('Scores')\n",
    "ax.set_title('Scores by model and metric')\n",
    "ax.set_xticks(x)\n",
    "ax.set_xticklabels(labels)\n",
    "ax.legend()\n",
    "\n",
    "fig.tight_layout()\n",
    "plt.show()\n"
   ]
  }
 ],
 "metadata": {
  "kernelspec": {
   "display_name": "base",
   "language": "python",
   "name": "python3"
  },
  "language_info": {
   "codemirror_mode": {
    "name": "ipython",
    "version": 3
   },
   "file_extension": ".py",
   "mimetype": "text/x-python",
   "name": "python",
   "nbconvert_exporter": "python",
   "pygments_lexer": "ipython3",
   "version": "3.9.7"
  }
 },
 "nbformat": 4,
 "nbformat_minor": 2
}
